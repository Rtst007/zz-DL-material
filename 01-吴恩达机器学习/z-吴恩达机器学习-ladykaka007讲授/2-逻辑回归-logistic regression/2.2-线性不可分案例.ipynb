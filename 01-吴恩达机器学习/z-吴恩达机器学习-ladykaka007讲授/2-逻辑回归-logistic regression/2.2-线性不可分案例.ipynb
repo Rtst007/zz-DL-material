{
 "cells": [
  {
   "cell_type": "code",
   "execution_count": 1,
   "id": "b61e2ca9",
   "metadata": {},
   "outputs": [],
   "source": [
    "import numpy as np\n",
    "import pandas as pd\n",
    "import matplotlib.pyplot as plt"
   ]
  },
  {
   "cell_type": "code",
   "execution_count": 2,
   "id": "f85768a1",
   "metadata": {},
   "outputs": [
    {
     "data": {
      "text/html": [
       "<div>\n",
       "<style scoped>\n",
       "    .dataframe tbody tr th:only-of-type {\n",
       "        vertical-align: middle;\n",
       "    }\n",
       "\n",
       "    .dataframe tbody tr th {\n",
       "        vertical-align: top;\n",
       "    }\n",
       "\n",
       "    .dataframe thead th {\n",
       "        text-align: right;\n",
       "    }\n",
       "</style>\n",
       "<table border=\"1\" class=\"dataframe\">\n",
       "  <thead>\n",
       "    <tr style=\"text-align: right;\">\n",
       "      <th></th>\n",
       "      <th>Test 1</th>\n",
       "      <th>Test 2</th>\n",
       "      <th>Accepted</th>\n",
       "    </tr>\n",
       "  </thead>\n",
       "  <tbody>\n",
       "    <tr>\n",
       "      <th>0</th>\n",
       "      <td>0.051267</td>\n",
       "      <td>0.69956</td>\n",
       "      <td>1</td>\n",
       "    </tr>\n",
       "    <tr>\n",
       "      <th>1</th>\n",
       "      <td>-0.092742</td>\n",
       "      <td>0.68494</td>\n",
       "      <td>1</td>\n",
       "    </tr>\n",
       "    <tr>\n",
       "      <th>2</th>\n",
       "      <td>-0.213710</td>\n",
       "      <td>0.69225</td>\n",
       "      <td>1</td>\n",
       "    </tr>\n",
       "    <tr>\n",
       "      <th>3</th>\n",
       "      <td>-0.375000</td>\n",
       "      <td>0.50219</td>\n",
       "      <td>1</td>\n",
       "    </tr>\n",
       "    <tr>\n",
       "      <th>4</th>\n",
       "      <td>-0.513250</td>\n",
       "      <td>0.46564</td>\n",
       "      <td>1</td>\n",
       "    </tr>\n",
       "  </tbody>\n",
       "</table>\n",
       "</div>"
      ],
      "text/plain": [
       "     Test 1   Test 2  Accepted\n",
       "0  0.051267  0.69956         1\n",
       "1 -0.092742  0.68494         1\n",
       "2 -0.213710  0.69225         1\n",
       "3 -0.375000  0.50219         1\n",
       "4 -0.513250  0.46564         1"
      ]
     },
     "execution_count": 2,
     "metadata": {},
     "output_type": "execute_result"
    }
   ],
   "source": [
    "path = 'ex2data2.txt'\n",
    "data = pd.read_csv(path, names=['Test 1', 'Test 2', 'Accepted'])\n",
    "data.head()"
   ]
  },
  {
   "cell_type": "code",
   "execution_count": 3,
   "id": "755d42e0",
   "metadata": {},
   "outputs": [
    {
     "data": {
      "image/png": "[encoded data removed]",
      "text/plain": [
       "<Figure size 640x480 with 1 Axes>"
      ]
     },
     "metadata": {},
     "output_type": "display_data"
    }
   ],
   "source": [
    "fig,ax = plt.subplots()\n",
    "ax.scatter(data[data['Accepted']==0]['Test 1'],data[data['Accepted']==0]['Test 2'],c='r',marker='x',label='y=0')\n",
    "ax.scatter(data[data['Accepted']==1]['Test 1'],data[data['Accepted']==1]['Test 2'],c='b',marker='o',label='y=1')\n",
    "ax.legend()\n",
    "ax.set(xlabel='Test1',\n",
    "          ylabel='Test2')\n",
    "plt.show()"
   ]
  },
  {
   "cell_type": "code",
   "execution_count": 4,
   "id": "f3de714d",
   "metadata": {},
   "outputs": [],
   "source": [
    "def feature_mapping(x1,x2,power):\n",
    "    data = {}\n",
    "    \n",
    "    for i in np.arange(power+1):\n",
    "        for j in np.arange(i + 1):\n",
    "            data['F{}{}'.format(i-j,j)] = np.power(x1,i-j) * np.power(x2,j)\n",
    "            \n",
    "    return pd.DataFrame(data) \n",
    "                 "
   ]
  },
  {
   "cell_type": "code",
   "execution_count": 5,
   "id": "97e4bb51",
   "metadata": {},
   "outputs": [],
   "source": [
    "x1 = data['Test 1']\n",
    "x2 = data['Test 2']"
   ]
  },
  {
   "cell_type": "code",
   "execution_count": 6,
   "id": "00582e85",
   "metadata": {},
   "outputs": [],
   "source": [
    "data2 = feature_mapping(x1,x2,6)"
   ]
  },
  {
   "cell_type": "code",
   "execution_count": 7,
   "id": "dfe081b5",
   "metadata": {},
   "outputs": [
    {
     "data": {
      "text/html": [
       "<div>\n",
       "<style scoped>\n",
       "    .dataframe tbody tr th:only-of-type {\n",
       "        vertical-align: middle;\n",
       "    }\n",
       "\n",
       "    .dataframe tbody tr th {\n",
       "        vertical-align: top;\n",
       "    }\n",
       "\n",
       "    .dataframe thead th {\n",
       "        text-align: right;\n",
       "    }\n",
       "</style>\n",
       "<table border=\"1\" class=\"dataframe\">\n",
       "  <thead>\n",
       "    <tr style=\"text-align: right;\">\n",
       "      <th></th>\n",
       "      <th>F00</th>\n",
       "      <th>F10</th>\n",
       "      <th>F01</th>\n",
       "      <th>F20</th>\n",
       "      <th>F11</th>\n",
       "      <th>F02</th>\n",
       "      <th>F30</th>\n",
       "      <th>F21</th>\n",
       "      <th>F12</th>\n",
       "      <th>F03</th>\n",
       "      <th>...</th>\n",
       "      <th>F23</th>\n",
       "      <th>F14</th>\n",
       "      <th>F05</th>\n",
       "      <th>F60</th>\n",
       "      <th>F51</th>\n",
       "      <th>F42</th>\n",
       "      <th>F33</th>\n",
       "      <th>F24</th>\n",
       "      <th>F15</th>\n",
       "      <th>F06</th>\n",
       "    </tr>\n",
       "  </thead>\n",
       "  <tbody>\n",
       "    <tr>\n",
       "      <th>0</th>\n",
       "      <td>1.0</td>\n",
       "      <td>0.051267</td>\n",
       "      <td>0.69956</td>\n",
       "      <td>0.002628</td>\n",
       "      <td>0.035864</td>\n",
       "      <td>0.489384</td>\n",
       "      <td>0.000135</td>\n",
       "      <td>0.001839</td>\n",
       "      <td>0.025089</td>\n",
       "      <td>0.342354</td>\n",
       "      <td>...</td>\n",
       "      <td>0.000900</td>\n",
       "      <td>0.012278</td>\n",
       "      <td>0.167542</td>\n",
       "      <td>1.815630e-08</td>\n",
       "      <td>2.477505e-07</td>\n",
       "      <td>0.000003</td>\n",
       "      <td>0.000046</td>\n",
       "      <td>0.000629</td>\n",
       "      <td>0.008589</td>\n",
       "      <td>0.117206</td>\n",
       "    </tr>\n",
       "    <tr>\n",
       "      <th>1</th>\n",
       "      <td>1.0</td>\n",
       "      <td>-0.092742</td>\n",
       "      <td>0.68494</td>\n",
       "      <td>0.008601</td>\n",
       "      <td>-0.063523</td>\n",
       "      <td>0.469143</td>\n",
       "      <td>-0.000798</td>\n",
       "      <td>0.005891</td>\n",
       "      <td>-0.043509</td>\n",
       "      <td>0.321335</td>\n",
       "      <td>...</td>\n",
       "      <td>0.002764</td>\n",
       "      <td>-0.020412</td>\n",
       "      <td>0.150752</td>\n",
       "      <td>6.362953e-07</td>\n",
       "      <td>-4.699318e-06</td>\n",
       "      <td>0.000035</td>\n",
       "      <td>-0.000256</td>\n",
       "      <td>0.001893</td>\n",
       "      <td>-0.013981</td>\n",
       "      <td>0.103256</td>\n",
       "    </tr>\n",
       "    <tr>\n",
       "      <th>2</th>\n",
       "      <td>1.0</td>\n",
       "      <td>-0.213710</td>\n",
       "      <td>0.69225</td>\n",
       "      <td>0.045672</td>\n",
       "      <td>-0.147941</td>\n",
       "      <td>0.479210</td>\n",
       "      <td>-0.009761</td>\n",
       "      <td>0.031616</td>\n",
       "      <td>-0.102412</td>\n",
       "      <td>0.331733</td>\n",
       "      <td>...</td>\n",
       "      <td>0.015151</td>\n",
       "      <td>-0.049077</td>\n",
       "      <td>0.158970</td>\n",
       "      <td>9.526844e-05</td>\n",
       "      <td>-3.085938e-04</td>\n",
       "      <td>0.001000</td>\n",
       "      <td>-0.003238</td>\n",
       "      <td>0.010488</td>\n",
       "      <td>-0.033973</td>\n",
       "      <td>0.110047</td>\n",
       "    </tr>\n",
       "    <tr>\n",
       "      <th>3</th>\n",
       "      <td>1.0</td>\n",
       "      <td>-0.375000</td>\n",
       "      <td>0.50219</td>\n",
       "      <td>0.140625</td>\n",
       "      <td>-0.188321</td>\n",
       "      <td>0.252195</td>\n",
       "      <td>-0.052734</td>\n",
       "      <td>0.070620</td>\n",
       "      <td>-0.094573</td>\n",
       "      <td>0.126650</td>\n",
       "      <td>...</td>\n",
       "      <td>0.017810</td>\n",
       "      <td>-0.023851</td>\n",
       "      <td>0.031940</td>\n",
       "      <td>2.780914e-03</td>\n",
       "      <td>-3.724126e-03</td>\n",
       "      <td>0.004987</td>\n",
       "      <td>-0.006679</td>\n",
       "      <td>0.008944</td>\n",
       "      <td>-0.011978</td>\n",
       "      <td>0.016040</td>\n",
       "    </tr>\n",
       "    <tr>\n",
       "      <th>4</th>\n",
       "      <td>1.0</td>\n",
       "      <td>-0.513250</td>\n",
       "      <td>0.46564</td>\n",
       "      <td>0.263426</td>\n",
       "      <td>-0.238990</td>\n",
       "      <td>0.216821</td>\n",
       "      <td>-0.135203</td>\n",
       "      <td>0.122661</td>\n",
       "      <td>-0.111283</td>\n",
       "      <td>0.100960</td>\n",
       "      <td>...</td>\n",
       "      <td>0.026596</td>\n",
       "      <td>-0.024128</td>\n",
       "      <td>0.021890</td>\n",
       "      <td>1.827990e-02</td>\n",
       "      <td>-1.658422e-02</td>\n",
       "      <td>0.015046</td>\n",
       "      <td>-0.013650</td>\n",
       "      <td>0.012384</td>\n",
       "      <td>-0.011235</td>\n",
       "      <td>0.010193</td>\n",
       "    </tr>\n",
       "  </tbody>\n",
       "</table>\n",
       "<p>5 rows × 28 columns</p>\n",
       "</div>"
      ],
      "text/plain": [
       "   F00       F10      F01       F20       F11       F02       F30       F21  \\\n",
       "0  1.0  0.051267  0.69956  0.002628  0.035864  0.489384  0.000135  0.001839   \n",
       "1  1.0 -0.092742  0.68494  0.008601 -0.063523  0.469143 -0.000798  0.005891   \n",
       "2  1.0 -0.213710  0.69225  0.045672 -0.147941  0.479210 -0.009761  0.031616   \n",
       "3  1.0 -0.375000  0.50219  0.140625 -0.188321  0.252195 -0.052734  0.070620   \n",
       "4  1.0 -0.513250  0.46564  0.263426 -0.238990  0.216821 -0.135203  0.122661   \n",
       "\n",
       "        F12       F03  ...       F23       F14       F05           F60  \\\n",
       "0  0.025089  0.342354  ...  0.000900  0.012278  0.167542  1.815630e-08   \n",
       "1 -0.043509  0.321335  ...  0.002764 -0.020412  0.150752  6.362953e-07   \n",
       "2 -0.102412  0.331733  ...  0.015151 -0.049077  0.158970  9.526844e-05   \n",
       "3 -0.094573  0.126650  ...  0.017810 -0.023851  0.031940  2.780914e-03   \n",
       "4 -0.111283  0.100960  ...  0.026596 -0.024128  0.021890  1.827990e-02   \n",
       "\n",
       "            F51       F42       F33       F24       F15       F06  \n",
       "0  2.477505e-07  0.000003  0.000046  0.000629  0.008589  0.117206  \n",
       "1 -4.699318e-06  0.000035 -0.000256  0.001893 -0.013981  0.103256  \n",
       "2 -3.085938e-04  0.001000 -0.003238  0.010488 -0.033973  0.110047  \n",
       "3 -3.724126e-03  0.004987 -0.006679  0.008944 -0.011978  0.016040  \n",
       "4 -1.658422e-02  0.015046 -0.013650  0.012384 -0.011235  0.010193  \n",
       "\n",
       "[5 rows x 28 columns]"
      ]
     },
     "execution_count": 7,
     "metadata": {},
     "output_type": "execute_result"
    }
   ],
   "source": [
    "data2.head()"
   ]
  },
  {
   "cell_type": "code",
   "execution_count": 8,
   "id": "8e25981c",
   "metadata": {},
   "outputs": [],
   "source": [
    "X = data2.values"
   ]
  },
  {
   "cell_type": "code",
   "execution_count": 9,
   "id": "7b0e796d",
   "metadata": {},
   "outputs": [
    {
     "data": {
      "text/plain": [
       "(118, 28)"
      ]
     },
     "execution_count": 9,
     "metadata": {},
     "output_type": "execute_result"
    }
   ],
   "source": [
    "X.shape"
   ]
  },
  {
   "cell_type": "code",
   "execution_count": 10,
   "id": "e6ec026f",
   "metadata": {},
   "outputs": [],
   "source": [
    "y = data.iloc[:,-1].values"
   ]
  },
  {
   "cell_type": "code",
   "execution_count": 11,
   "id": "bcd0447c",
   "metadata": {},
   "outputs": [
    {
     "data": {
      "text/plain": [
       "(118, 1)"
      ]
     },
     "execution_count": 11,
     "metadata": {},
     "output_type": "execute_result"
    }
   ],
   "source": [
    "y = y.reshape(len(y),1)\n",
    "y.shape"
   ]
  },
  {
   "cell_type": "code",
   "execution_count": 12,
   "id": "97495cb0",
   "metadata": {},
   "outputs": [],
   "source": [
    "def sigmoid(z):\n",
    "    return 1/(1+np.exp(-z))"
   ]
  },
  {
   "cell_type": "code",
   "execution_count": 13,
   "id": "dbe1c365",
   "metadata": {},
   "outputs": [],
   "source": [
    "def costFunction(X,y,theta,lamda):\n",
    "    A = sigmoid(X@theta)\n",
    "    \n",
    "    first = y*np.log(A)\n",
    "    second = (1-y) * np.log(1-A)\n",
    "    \n",
    "    reg = np.sum(np.power(theta[1:],2)) * (lamda / (2 * len(X)))\n",
    "    \n",
    "    return -np.sum(first + second ) / len(X) + reg"
   ]
  },
  {
   "cell_type": "code",
   "execution_count": 14,
   "id": "f1360e4e",
   "metadata": {},
   "outputs": [
    {
     "data": {
      "text/plain": [
       "(28, 1)"
      ]
     },
     "execution_count": 14,
     "metadata": {},
     "output_type": "execute_result"
    }
   ],
   "source": [
    "theta = np.zeros((28,1))\n",
    "theta.shape"
   ]
  },
  {
   "cell_type": "code",
   "execution_count": 15,
   "id": "21c05be4",
   "metadata": {},
   "outputs": [],
   "source": [
    "lamda = 1"
   ]
  },
  {
   "cell_type": "code",
   "execution_count": 16,
   "id": "4319f139",
   "metadata": {},
   "outputs": [
    {
     "name": "stdout",
     "output_type": "stream",
     "text": [
      "0.6931471805599454\n"
     ]
    }
   ],
   "source": [
    "cost_init = costFunction(X,y,theta,lamda)\n",
    "print(cost_init)"
   ]
  },
  {
   "cell_type": "code",
   "execution_count": 17,
   "id": "ec1c35c9",
   "metadata": {},
   "outputs": [],
   "source": [
    "def gradientDescent(X,y,theta,alpha,iters,lamda):\n",
    "    \n",
    "    costs = []\n",
    "    \n",
    "    for i in range(iters):\n",
    "        \n",
    "        reg = theta[1:] * (lamda / len(X))\n",
    "        reg = np.insert(reg,0,values=0,axis=0)\n",
    "        \n",
    "        theta = theta - (X.T@(sigmoid(X@theta) - y)) * alpha / len(X) -reg\n",
    "        cost = costFunction(X,y,theta,lamda)\n",
    "        costs.append(cost)\n",
    "        \n",
    "        if i % 1000 == 0:\n",
    "            print(cost)\n",
    "            \n",
    "    return theta,costs"
   ]
  },
  {
   "cell_type": "code",
   "execution_count": 23,
   "id": "3942d017",
   "metadata": {},
   "outputs": [],
   "source": [
    "alpha = 0.001\n",
    "iters = 200000\n",
    "# lamda = 0.001\n",
    "lamda = 0    #  lamda = 0 过拟合，  lamda 很大时 欠拟合"
   ]
  },
  {
   "cell_type": "code",
   "execution_count": 24,
   "id": "430ab02b",
   "metadata": {},
   "outputs": [
    {
     "name": "stdout",
     "output_type": "stream",
     "text": [
      "0.6931343807989311\n",
      "0.6818206806253246\n",
      "0.6725971289020385\n",
      "0.6646379677059019\n",
      "0.657508287168547\n",
      "0.65097029603066\n",
      "0.6448863920430221\n",
      "0.6391710675858542\n",
      "0.6337669364681994\n",
      "0.6286326131025862\n",
      "0.6237364348265072\n",
      "0.619053091678459\n",
      "0.6145617252922241\n",
      "0.610244787625312\n",
      "0.6060873062331877\n",
      "0.6020763774927699\n",
      "0.5982007954908402\n",
      "0.5944507673456604\n",
      "0.5908176875019241\n",
      "0.5872939547758179\n",
      "0.5838728219030076\n",
      "0.5805482706585636\n",
      "0.5773149075635586\n",
      "0.5741678764125396\n",
      "0.5711027846746424\n",
      "0.5681156414061115\n",
      "0.5652028047516433\n",
      "0.5623609374547434\n",
      "0.5595869690712003\n",
      "0.5568780638021369\n",
      "0.5542315930453834\n",
      "0.5516451119142164\n",
      "0.54911633909691\n",
      "0.5466431395337273\n",
      "0.5442235094737118\n",
      "0.5418555635449315\n",
      "0.5395375235311951\n",
      "0.5372677085977076\n",
      "0.5350445267493931\n",
      "0.5328664673400184\n",
      "0.5307320944790247\n",
      "0.5286400412070043\n",
      "0.5265890043308895\n",
      "0.5245777398267724\n",
      "0.5226050587324047\n",
      "0.5206698234632965\n",
      "0.5187709444962906\n",
      "0.5169073773728818\n",
      "0.5150781199816011\n",
      "0.5132822100847406\n",
      "0.5115187230597155\n",
      "0.5097867698296029\n",
      "0.508085494960985\n",
      "0.506414074910271\n",
      "0.5047717164022426\n",
      "0.5031576549267694\n",
      "0.5015711533414976\n",
      "0.5000115005699033\n",
      "0.4984780103854649\n",
      "0.4969700202738564\n",
      "0.49548689036606547\n",
      "0.49402800243618633\n",
      "0.49259275895837124\n",
      "0.49118058221805383\n",
      "0.489790913473105\n",
      "0.4884232121610483\n",
      "0.48707695514887644\n",
      "0.48575163602236204\n",
      "0.4844467644120651\n",
      "0.4831618653535179\n",
      "0.481896478679293\n",
      "0.48065015844088427\n",
      "0.47942247235850044\n",
      "0.4782130012970454\n",
      "0.47702133876669767\n",
      "0.47584709044662876\n",
      "0.47468987373052546\n",
      "0.47354931729266764\n",
      "0.4724250606734196\n",
      "0.47131675388307115\n",
      "0.47022405702303627\n",
      "0.4691466399234918\n",
      "0.4680841817965968\n",
      "0.46703637090448774\n",
      "0.46600290424130136\n",
      "0.4649834872285213\n",
      "0.463977833422987\n",
      "0.46298566423694487\n",
      "0.4620067086695585\n",
      "0.46104070304932804\n",
      "0.46008739078690064\n",
      "0.45914652213778373\n",
      "0.4582178539744986\n",
      "0.45730114956773843\n",
      "0.45639617837611735\n",
      "0.4555027158441228\n",
      "0.45462054320789513\n",
      "0.4537494473084914\n",
      "0.4528892204122951\n",
      "0.45203966003825724\n",
      "0.4512005687916724\n",
      "0.45037175420420045\n",
      "0.44955302857986734\n",
      "0.44874420884678656\n",
      "0.4479451164143554\n",
      "0.4471555770356971\n",
      "0.4463754206751217\n",
      "0.4456044813804018\n",
      "0.4448425971596561\n",
      "0.4440896098626531\n",
      "0.44334536506635264\n",
      "0.4426097119645072\n",
      "0.441882503261164\n",
      "0.44116359506790326\n",
      "0.4404528468046656\n",
      "0.4397501211040228\n",
      "0.4390552837187555\n",
      "0.4383682034326046\n",
      "0.43768875197407237\n",
      "0.43701680393315345\n",
      "0.4363522366808802\n",
      "0.4356949302915732\n",
      "0.4350447674676919\n",
      "0.43440163346718547\n",
      "0.4337654160332483\n",
      "0.4331360053263876\n",
      "0.4325132938587158\n",
      "0.4318971764303835\n",
      "0.4312875500680734\n",
      "0.4306843139654751\n",
      "0.4300873694256721\n",
      "0.4294966198053648\n",
      "0.428911970460866\n",
      "0.42833332869580076\n",
      "0.42776060371045066\n",
      "0.42719370655268135\n",
      "0.4266325500703963\n",
      "0.42607704886546294\n",
      "0.4255271192490562\n",
      "0.4249826791983714\n",
      "0.42444364831465603\n",
      "0.4239099477825148\n",
      "0.4233815003304431\n",
      "0.422858230192545\n",
      "0.42234006307139604\n",
      "0.42182692610200984\n",
      "0.42131874781687073\n",
      "0.4208154581119967\n",
      "0.4203169882139957\n",
      "0.41982327064808317\n",
      "0.4193342392070273\n",
      "0.4188498289209906\n",
      "0.4183699760282389\n",
      "0.4178946179466874\n",
      "0.4174236932462559\n",
      "0.4169571416220081\n",
      "0.41649490386804705\n",
      "0.4160369218521436\n",
      "0.4155831384910727\n",
      "0.41513349772663477\n",
      "0.41468794450234153\n",
      "0.41424642474074114\n",
      "0.41380888532136667\n",
      "0.4133752740592853\n",
      "0.4129455396842285\n",
      "0.41251963182028806\n",
      "0.41209750096615594\n",
      "0.4116790984758935\n",
      "0.41126437654021497\n",
      "0.4108532881682642\n",
      "0.4104457871698735\n",
      "0.41004182813829043\n",
      "0.40964136643335364\n",
      "0.4092443581651083\n",
      "0.40885076017784533\n",
      "0.40846053003455396\n",
      "0.4080736260017711\n",
      "0.40769000703482045\n",
      "0.4073096327634261\n",
      "0.40693246347769063\n",
      "0.406558460114428\n",
      "0.4061875842438376\n",
      "0.4058197980565149\n",
      "0.40545506435078144\n",
      "0.40509334652033174\n",
      "0.40473460854218407\n",
      "0.40437881496492745\n",
      "0.4040259308972547\n",
      "0.4036759219967785\n",
      "0.40332875445911354\n",
      "0.40298439500722666\n",
      "0.40264281088104087\n",
      "0.40230396982728844\n",
      "0.4019678400896064\n",
      "0.4016343903988668\n",
      "0.4013035899637353\n",
      "0.400975408461452\n",
      "0.40064981602882976\n",
      "0.4003267832534595\n",
      "0.40000628116512266\n"
     ]
    }
   ],
   "source": [
    "theta_final,costs = gradientDescent(X,y,theta,alpha,iters,lamda)"
   ]
  },
  {
   "cell_type": "code",
   "execution_count": 25,
   "id": "d69e2512",
   "metadata": {},
   "outputs": [],
   "source": [
    "def predict(X,theta):\n",
    "    \n",
    "    prob = sigmoid(X@theta)\n",
    "    \n",
    "    return [1 if x >= 0.5 else 0 for x in prob]"
   ]
  },
  {
   "cell_type": "code",
   "execution_count": 26,
   "id": "0cae456a",
   "metadata": {},
   "outputs": [
    {
     "name": "stdout",
     "output_type": "stream",
     "text": [
      "0.8135593220338984\n"
     ]
    }
   ],
   "source": [
    "y_ = np.array(predict(X,theta_final))\n",
    "y_pre = y_.reshape(len(y_),1)\n",
    "\n",
    "acc  = np.mean(y_pre == y)\n",
    "\n",
    "print(acc)"
   ]
  },
  {
   "cell_type": "code",
   "execution_count": 28,
   "id": "ad9390b0",
   "metadata": {},
   "outputs": [
    {
     "data": {
      "image/png": "[encoded data removed]",
      "text/plain": [
       "<Figure size 640x480 with 1 Axes>"
      ]
     },
     "metadata": {},
     "output_type": "display_data"
    }
   ],
   "source": [
    "x = np.linspace(-1.2,1.2,200)\n",
    "xx,yy = np.meshgrid(x,x)\n",
    "z = feature_mapping(xx.ravel(),yy.ravel(),6).values\n",
    "\n",
    "zz = z @ theta_final\n",
    "zz = zz.reshape(xx.shape)\n",
    "\n",
    "fig,ax = plt.subplots()\n",
    "ax.scatter(data[data['Accepted']==0]['Test 1'],data[data['Accepted']==0]['Test 2'],c='r',marker='x',label='y=0')\n",
    "ax.scatter(data[data['Accepted']==1]['Test 1'],data[data['Accepted']==1]['Test 2'],c='b',marker='o',label='y=1')\n",
    "ax.legend()\n",
    "ax.set(xlabel='Test1',\n",
    "          ylabel='Test2')\n",
    "\n",
    "plt.contour(xx,yy,zz,0)\n",
    "plt.show()"
   ]
  },
  {
   "cell_type": "code",
   "execution_count": null,
   "id": "9cd0476e",
   "metadata": {},
   "outputs": [],
   "source": []
  }
 ],
 "metadata": {
  "kernelspec": {
   "display_name": "Python 3 (ipykernel)",
   "language": "python",
   "name": "python3"
  },
  "language_info": {
   "codemirror_mode": {
    "name": "ipython",
    "version": 3
   },
   "file_extension": ".py",
   "mimetype": "text/x-python",
   "name": "python",
   "nbconvert_exporter": "python",
   "pygments_lexer": "ipython3",
   "version": "3.11.4"
  }
 },
 "nbformat": 4,
 "nbformat_minor": 5
}
