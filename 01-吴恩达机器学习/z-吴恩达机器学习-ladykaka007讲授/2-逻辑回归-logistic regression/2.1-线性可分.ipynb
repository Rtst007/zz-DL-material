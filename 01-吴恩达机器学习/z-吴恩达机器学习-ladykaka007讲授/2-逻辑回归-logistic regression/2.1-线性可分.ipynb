{
 "cells": [
  {
   "cell_type": "code",
   "execution_count": 1,
   "id": "de39dc92",
   "metadata": {},
   "outputs": [],
   "source": [
    "import numpy as np\n",
    "import pandas as pd\n",
    "import matplotlib.pyplot as plt"
   ]
  },
  {
   "cell_type": "code",
   "execution_count": 2,
   "id": "a8383992",
   "metadata": {},
   "outputs": [],
   "source": [
    "path = 'ex2data1.txt'"
   ]
  },
  {
   "cell_type": "code",
   "execution_count": 3,
   "id": "2e1bcdea",
   "metadata": {},
   "outputs": [
    {
     "data": {
      "text/html": [
       "<div>\n",
       "<style scoped>\n",
       "    .dataframe tbody tr th:only-of-type {\n",
       "        vertical-align: middle;\n",
       "    }\n",
       "\n",
       "    .dataframe tbody tr th {\n",
       "        vertical-align: top;\n",
       "    }\n",
       "\n",
       "    .dataframe thead th {\n",
       "        text-align: right;\n",
       "    }\n",
       "</style>\n",
       "<table border=\"1\" class=\"dataframe\">\n",
       "  <thead>\n",
       "    <tr style=\"text-align: right;\">\n",
       "      <th></th>\n",
       "      <th>Exam 1</th>\n",
       "      <th>Exam 2</th>\n",
       "      <th>Accepted</th>\n",
       "    </tr>\n",
       "  </thead>\n",
       "  <tbody>\n",
       "    <tr>\n",
       "      <th>0</th>\n",
       "      <td>34.623660</td>\n",
       "      <td>78.024693</td>\n",
       "      <td>0</td>\n",
       "    </tr>\n",
       "    <tr>\n",
       "      <th>1</th>\n",
       "      <td>30.286711</td>\n",
       "      <td>43.894998</td>\n",
       "      <td>0</td>\n",
       "    </tr>\n",
       "    <tr>\n",
       "      <th>2</th>\n",
       "      <td>35.847409</td>\n",
       "      <td>72.902198</td>\n",
       "      <td>0</td>\n",
       "    </tr>\n",
       "    <tr>\n",
       "      <th>3</th>\n",
       "      <td>60.182599</td>\n",
       "      <td>86.308552</td>\n",
       "      <td>1</td>\n",
       "    </tr>\n",
       "    <tr>\n",
       "      <th>4</th>\n",
       "      <td>79.032736</td>\n",
       "      <td>75.344376</td>\n",
       "      <td>1</td>\n",
       "    </tr>\n",
       "  </tbody>\n",
       "</table>\n",
       "</div>"
      ],
      "text/plain": [
       "      Exam 1     Exam 2  Accepted\n",
       "0  34.623660  78.024693         0\n",
       "1  30.286711  43.894998         0\n",
       "2  35.847409  72.902198         0\n",
       "3  60.182599  86.308552         1\n",
       "4  79.032736  75.344376         1"
      ]
     },
     "execution_count": 3,
     "metadata": {},
     "output_type": "execute_result"
    }
   ],
   "source": [
    "data = pd.read_csv(path, names=['Exam 1', 'Exam 2', 'Accepted'])\n",
    "data.head()"
   ]
  },
  {
   "cell_type": "code",
   "execution_count": 4,
   "id": "ecc3ce6a",
   "metadata": {},
   "outputs": [
    {
     "data": {
      "image/png": "[encoded data removed]",
      "text/plain": [
       "<Figure size 640x480 with 1 Axes>"
      ]
     },
     "metadata": {},
     "output_type": "display_data"
    }
   ],
   "source": [
    "fig,ax = plt.subplots()\n",
    "ax.scatter(data[data['Accepted']==0]['Exam 1'],data[data['Accepted']==0]['Exam 2'],c='r',marker='x',label='y=0')\n",
    "ax.scatter(data[data['Accepted']==1]['Exam 1'],data[data['Accepted']==1]['Exam 2'],c='b',marker='o',label='y=1')\n",
    "ax.legend()\n",
    "ax.set(xlabel='exam1',\n",
    "          ylabel='exam2')\n",
    "plt.show()"
   ]
  },
  {
   "cell_type": "code",
   "execution_count": 5,
   "id": "5a8e1085",
   "metadata": {},
   "outputs": [],
   "source": [
    "def get_Xy(data):\n",
    "    \n",
    "    data.insert(0,'ones',1)\n",
    "    X_ = data.iloc[:,0:-1]\n",
    "    X = X_.values\n",
    "    \n",
    "    y_ = data.iloc[:,-1]\n",
    "    y = y_.values.reshape(len(y_),1)\n",
    "    \n",
    "    return X,y"
   ]
  },
  {
   "cell_type": "code",
   "execution_count": 6,
   "id": "048c7ac4",
   "metadata": {},
   "outputs": [],
   "source": [
    "X,y = get_Xy(data)"
   ]
  },
  {
   "cell_type": "code",
   "execution_count": 7,
   "id": "795ce0b5",
   "metadata": {},
   "outputs": [
    {
     "data": {
      "text/plain": [
       "(100, 3)"
      ]
     },
     "execution_count": 7,
     "metadata": {},
     "output_type": "execute_result"
    }
   ],
   "source": [
    "X.shape"
   ]
  },
  {
   "cell_type": "code",
   "execution_count": 8,
   "id": "ad2e3c2b",
   "metadata": {},
   "outputs": [
    {
     "data": {
      "text/plain": [
       "(100, 1)"
      ]
     },
     "execution_count": 8,
     "metadata": {},
     "output_type": "execute_result"
    }
   ],
   "source": [
    "y.shape"
   ]
  },
  {
   "cell_type": "code",
   "execution_count": 9,
   "id": "478257d9",
   "metadata": {},
   "outputs": [],
   "source": [
    "def sigmoid(z):\n",
    "    \n",
    "    return 1 / (1 + np.exp(-z))"
   ]
  },
  {
   "cell_type": "code",
   "execution_count": 10,
   "id": "0b7eba8d",
   "metadata": {},
   "outputs": [],
   "source": [
    "def costFunction(X,y,theta):\n",
    "    \n",
    "    A = sigmoid(X@theta)\n",
    "    \n",
    "    first = y * np.log(A)\n",
    "    second = (1-y) * np.log(1-A)\n",
    "    \n",
    "    return -np.sum(first + second) / len(X)"
   ]
  },
  {
   "cell_type": "code",
   "execution_count": 11,
   "id": "0f051441",
   "metadata": {},
   "outputs": [
    {
     "data": {
      "text/plain": [
       "(3, 1)"
      ]
     },
     "execution_count": 11,
     "metadata": {},
     "output_type": "execute_result"
    }
   ],
   "source": [
    "theta = np.zeros((3,1))\n",
    "theta.shape"
   ]
  },
  {
   "cell_type": "code",
   "execution_count": 12,
   "id": "7da22508",
   "metadata": {},
   "outputs": [
    {
     "name": "stdout",
     "output_type": "stream",
     "text": [
      "0.6931471805599453\n"
     ]
    }
   ],
   "source": [
    "cost_init = costFunction(X,y,theta)\n",
    "print(cost_init)"
   ]
  },
  {
   "cell_type": "code",
   "execution_count": 13,
   "id": "b35ed0bb",
   "metadata": {},
   "outputs": [],
   "source": [
    "def gradientDescent(X,y,theta,iters,alpha):\n",
    "    m = len(X)\n",
    "    costs = []\n",
    "    \n",
    "    for i in range(iters):\n",
    "        A = sigmoid(X@theta)\n",
    "        theta  = theta -(alpha/m)  * X.T @ (A - y)\n",
    "        cost = costFunction(X,y,theta)\n",
    "        costs.append(cost)\n",
    "        if i % 1000 == 0:\n",
    "            print(cost)\n",
    "            \n",
    "    return costs, theta"
   ]
  },
  {
   "cell_type": "code",
   "execution_count": 14,
   "id": "8407b53a",
   "metadata": {},
   "outputs": [],
   "source": [
    "alpha = 0.004\n",
    "iters=200000"
   ]
  },
  {
   "cell_type": "code",
   "execution_count": 15,
   "id": "c075f461",
   "metadata": {},
   "outputs": [
    {
     "name": "stdout",
     "output_type": "stream",
     "text": [
      "1.9886538578930084\n",
      "3.078170019864155\n",
      "5.487009635362496\n",
      "1.8519433661332634\n",
      "2.9551289424083595\n",
      "5.438688730769618\n",
      "1.804612809072851\n",
      "2.8312715776074047\n",
      "5.3886531633606145\n",
      "1.756153811712155\n",
      "2.706676380747814\n",
      "5.3365673644957425\n",
      "1.7062807047694801\n",
      "2.5818508519054273\n",
      "5.281774101800353\n",
      "1.654412995851205\n",
      "2.4578430947435757\n",
      "5.223255119969365\n",
      "1.5996612097145546\n",
      "2.3362477519414626\n",
      "5.159653459570274\n",
      "1.5408871901849084\n",
      "2.2190492038468905\n",
      "5.089387088751128\n",
      "1.476856785108147\n",
      "2.10826850905365\n",
      "5.010845104587983\n",
      "1.4064493632805843\n",
      "2.005433890383272\n",
      "4.9225734611717336\n",
      "1.3288041261254444\n",
      "1.9109646054893654\n",
      "4.823257484826611\n",
      "1.2432202250971678\n",
      "1.8235866121521414\n",
      "4.711246821296763\n",
      "1.1486277932139577\n",
      "1.7397667362448002\n",
      "4.58325740045735\n",
      "1.0423478306006695\n",
      "1.652586574603404\n",
      "4.430932868329269\n",
      "0.9166267386002209\n",
      "1.5465331276550867\n",
      "4.224624720512682\n",
      "0.7330944584991163\n",
      "3.9520709655769544\n",
      "1.115095340214284\n",
      "3.93912521174624\n",
      "0.4181482209600352\n",
      "3.7379122586603324\n",
      "0.28403008381623446\n",
      "0.8040201118506516\n",
      "0.26839632646204487\n",
      "0.24523623659870075\n",
      "0.7696907304106029\n",
      "3.3341933756784283\n",
      "0.6748752810756887\n",
      "0.31649896023536445\n",
      "0.23151076693189496\n",
      "1.0707715728766347\n",
      "0.3845729590069322\n",
      "0.2992177273717379\n",
      "0.4135663562341656\n",
      "0.9696144041318395\n",
      "0.6215486830985413\n",
      "1.826576419788221\n",
      "2.6640340287611934\n",
      "0.9999788928077595\n",
      "0.38845720753636775\n",
      "0.30085687331363575\n",
      "1.1027405828084438\n",
      "2.2765664206708434\n",
      "2.444095093951281\n",
      "0.8864434475467824\n",
      "0.3224644657422974\n",
      "0.35522857530593444\n",
      "1.669517651875898\n",
      "0.4309692853297228\n",
      "0.6530212586691562\n",
      "0.5849740396161554\n",
      "0.5420382922952514\n",
      "0.5811454644155017\n",
      "0.6283665742475001\n",
      "0.7097657303866862\n",
      "0.73102834935715\n",
      "0.7541087623054501\n",
      "0.7793891294396065\n",
      "0.8073629012075668\n",
      "0.8387403315704057\n",
      "0.8746137092710174\n",
      "0.9168318502429197\n",
      "0.9690365343026918\n",
      "1.0407011674958797\n",
      "1.166881800610423\n",
      "1.1822987371918035\n",
      "1.1662318448122055\n",
      "1.150233392011524\n",
      "1.1343068922238941\n",
      "1.1184563671688539\n",
      "1.1026863099626751\n",
      "1.0870016401578644\n",
      "1.0714076534488224\n",
      "1.055909966212048\n",
      "1.0405144552548857\n",
      "1.0252271933693031\n",
      "1.010054381512467\n",
      "0.9950022786505768\n",
      "0.9800771304885211\n",
      "0.9652850984533099\n",
      "0.9506321903863946\n",
      "0.9361241944240619\n",
      "0.921766617497023\n",
      "0.9075646297635873\n",
      "0.8935230161097096\n",
      "0.8796461356161949\n",
      "0.8659378896224047\n",
      "0.8524016987249277\n",
      "0.8390404887564368\n",
      "0.8258566855118492\n",
      "0.8128522177396158\n",
      "0.8000285277078996\n",
      "0.7873865884936234\n",
      "0.7749269270327052\n",
      "0.7626496519082658\n",
      "0.7505544848391367\n",
      "0.7386407948564824\n",
      "0.726907634213754\n",
      "0.715353775157636\n",
      "0.7039777467867258\n",
      "0.6927778713327548\n",
      "0.6817522993106075\n",
      "0.6708990430926605\n",
      "0.660216008566083\n",
      "0.6497010246265276\n",
      "0.6393518703454144\n",
      "0.6291662997209043\n",
      "0.6191420639839929\n",
      "0.609276931481057\n",
      "0.5995687051946256\n",
      "0.5900152379936091\n",
      "0.5806144457271842\n",
      "0.5713643182905552\n",
      "0.562262928799765\n",
      "0.5533084410159185\n",
      "0.5444991151581902\n",
      "0.5358333122407368\n",
      "0.5273094970614656\n",
      "0.5189262399614353\n",
      "0.5106822174631712\n",
      "0.5025762118842436\n",
      "0.49460711001076924\n",
      "0.48677390090302436\n",
      "0.4790756728935836\n",
      "0.4715116098271509\n",
      "0.46408098658150365\n",
      "0.4567831638998123\n",
      "0.4496175825580173\n",
      "0.4425837568861733\n",
      "0.4356812676596383\n",
      "0.42890975437652046\n",
      "0.4222689069400822\n",
      "0.4157584567702914\n",
      "0.4093781673768537\n",
      "0.403127824436613\n",
      "0.3970072254311512\n",
      "0.3910161689149757\n",
      "0.38515444350099803\n",
      "0.37942181666594865\n",
      "0.3738180234951941\n",
      "0.36834275550087214\n",
      "0.3629956496606994\n",
      "0.35777627783399163\n",
      "0.3526841367181423\n",
      "0.34771863850913676\n",
      "0.3428791024263675\n",
      "0.3381647472525399\n",
      "0.33357468502409104\n",
      "0.3291079159880734\n",
      "0.3247633249164831\n",
      "0.32053967884088685\n",
      "0.3164356262391883\n",
      "0.3124496976744014\n",
      "0.3085803078530764\n",
      "0.30482575904011566\n",
      "0.3011842457386704\n",
      "0.29765386051900544\n",
      "0.2942326008603837\n",
      "0.2909183768544107\n",
      "0.28770901960876416\n",
      "0.28460229018559496\n",
      "0.28159588890922593\n",
      "0.27868746488264007\n",
      "0.27587462556163145\n",
      "0.2731549462470804\n",
      "0.270525979370839\n",
      "0.2679852634665671\n",
      "0.2655303317341102\n",
      "0.26315872012355224\n",
      "0.2608679748811594\n"
     ]
    }
   ],
   "source": [
    "costs,theta_final =  gradientDescent(X,y,theta,iters,alpha)"
   ]
  },
  {
   "cell_type": "code",
   "execution_count": 16,
   "id": "86c7291d",
   "metadata": {},
   "outputs": [
    {
     "data": {
      "text/plain": [
       "array([[-23.77314018],\n",
       "       [  0.18687162],\n",
       "       [  0.18041411]])"
      ]
     },
     "execution_count": 16,
     "metadata": {},
     "output_type": "execute_result"
    }
   ],
   "source": [
    "theta_final"
   ]
  },
  {
   "cell_type": "code",
   "execution_count": 17,
   "id": "eb249b81",
   "metadata": {},
   "outputs": [],
   "source": [
    "\n",
    "def predict(X,theta):\n",
    "    \n",
    "    prob = sigmoid(X@theta)\n",
    "    \n",
    "    return [1 if x >= 0.5 else 0 for x in prob]"
   ]
  },
  {
   "cell_type": "code",
   "execution_count": 18,
   "id": "2e38a31f",
   "metadata": {},
   "outputs": [
    {
     "name": "stdout",
     "output_type": "stream",
     "text": [
      "0.86\n"
     ]
    }
   ],
   "source": [
    "y_ = np.array(predict(X,theta_final))\n",
    "y_pre = y_.reshape(len(y_),1)\n",
    "\n",
    "acc  = np.mean(y_pre == y)\n",
    "\n",
    "print(acc)"
   ]
  },
  {
   "cell_type": "code",
   "execution_count": 19,
   "id": "82ef8379",
   "metadata": {},
   "outputs": [],
   "source": [
    "coef1 = - theta_final[0,0] / theta_final[2,0]\n",
    "coef2 = - theta_final[1,0] / theta_final[2,0]"
   ]
  },
  {
   "cell_type": "code",
   "execution_count": 20,
   "id": "386dff48",
   "metadata": {},
   "outputs": [
    {
     "data": {
      "image/png": "[encoded data removed]",
      "text/plain": [
       "<Figure size 640x480 with 1 Axes>"
      ]
     },
     "metadata": {},
     "output_type": "display_data"
    }
   ],
   "source": [
    "x = np.linspace(20,100,100)\n",
    "f = coef1 + coef2 * x\n",
    "\n",
    "fig,ax = plt.subplots()\n",
    "ax.scatter(data[data['Accepted']==0]['Exam 1'],data[data['Accepted']==0]['Exam 2'],c='r',marker='x',label='y=0')\n",
    "ax.scatter(data[data['Accepted']==1]['Exam 1'],data[data['Accepted']==1]['Exam 2'],c='b',marker='o',label='y=1')\n",
    "ax.legend()\n",
    "ax.set(xlabel='exam1',\n",
    "          ylabel='exam2')\n",
    "\n",
    "ax.plot(x,y,c='g')\n",
    "plt.show()"
   ]
  },
  {
   "cell_type": "code",
   "execution_count": 21,
   "id": "45f532ce",
   "metadata": {},
   "outputs": [
    {
     "data": {
      "image/png": "[encoded data removed]",
      "text/plain": [
       "<Figure size 700x500 with 1 Axes>"
      ]
     },
     "metadata": {},
     "output_type": "display_data"
    }
   ],
   "source": [
    "fig,ax = plt.subplots(figsize=(7,5))\n",
    "\n",
    "#绘制直线\n",
    "x = np.linspace(20,100,2)#在20到100之前绘制2个点确定直线，注意纵轴为Exam2，刻度在20-100\n",
    "y_ = coef1 + coef2 * x\n",
    "ax.plot(x,y_,c='g',label='Decision Boundary')\n",
    "\n",
    "#绘制原始数据\n",
    "ax.scatter(data[data['Accepted']==0]['Exam 1'], data[data['Accepted']==0]['Exam 2'],c='r',marker='x',label='y=0')\t\t   \n",
    "ax.scatter(data[data['Accepted']==1]['Exam 1'], data[data['Accepted']==1]['Exam 2'],c='b',marker='o',label='y=1')\n",
    "\n",
    "ax.legend()#显示标签label\n",
    "ax.set(xlabel='exam1', ylabel='exam2')\n",
    "plt.show()\n"
   ]
  },
  {
   "cell_type": "code",
   "execution_count": null,
   "id": "0fe04aca",
   "metadata": {},
   "outputs": [],
   "source": []
  },
  {
   "cell_type": "code",
   "execution_count": null,
   "id": "9542ab52",
   "metadata": {},
   "outputs": [],
   "source": []
  }
 ],
 "metadata": {
  "kernelspec": {
   "display_name": "Python 3 (ipykernel)",
   "language": "python",
   "name": "python3"
  },
  "language_info": {
   "codemirror_mode": {
    "name": "ipython",
    "version": 3
   },
   "file_extension": ".py",
   "mimetype": "text/x-python",
   "name": "python",
   "nbconvert_exporter": "python",
   "pygments_lexer": "ipython3",
   "version": "3.11.4"
  }
 },
 "nbformat": 4,
 "nbformat_minor": 5
}
