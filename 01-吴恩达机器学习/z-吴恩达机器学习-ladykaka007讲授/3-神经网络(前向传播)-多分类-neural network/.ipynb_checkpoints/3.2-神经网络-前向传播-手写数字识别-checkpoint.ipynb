{
 "cells": [
  {
   "cell_type": "code",
   "execution_count": 29,
   "id": "f3ea2cd3",
   "metadata": {},
   "outputs": [],
   "source": [
    "# 3.2-神经网络-前向传播-手写数字识别\n",
    "\n",
    "import pandas as pd\n",
    "\n",
    "import numpy as np\n",
    "import scipy.io as sio\n"
   ]
  },
  {
   "cell_type": "code",
   "execution_count": 30,
   "id": "1ef9ac2a",
   "metadata": {},
   "outputs": [],
   "source": [
    "data = sio.loadmat('ex3data1.mat')\n",
    "raw_X = data['X']\n",
    "raw_y = data['y']"
   ]
  },
  {
   "cell_type": "code",
   "execution_count": 31,
   "id": "54cfbbb9",
   "metadata": {
    "scrolled": true
   },
   "outputs": [
    {
     "data": {
      "text/plain": [
       "(5000, 400)"
      ]
     },
     "execution_count": 31,
     "metadata": {},
     "output_type": "execute_result"
    }
   ],
   "source": [
    "raw_X.shape"
   ]
  },
  {
   "cell_type": "code",
   "execution_count": 32,
   "id": "53d02100",
   "metadata": {},
   "outputs": [
    {
     "data": {
      "text/plain": [
       "(5000, 1)"
      ]
     },
     "execution_count": 32,
     "metadata": {},
     "output_type": "execute_result"
    }
   ],
   "source": [
    "raw_y.shape"
   ]
  },
  {
   "cell_type": "code",
   "execution_count": 33,
   "id": "6218a72f",
   "metadata": {},
   "outputs": [
    {
     "data": {
      "text/plain": [
       "(5000, 401)"
      ]
     },
     "execution_count": 33,
     "metadata": {},
     "output_type": "execute_result"
    }
   ],
   "source": [
    "X = np.insert(raw_X,0,values=1,axis=1)  # 增加 一列\n",
    "X.shape"
   ]
  },
  {
   "cell_type": "code",
   "execution_count": 34,
   "id": "de2434ae",
   "metadata": {},
   "outputs": [
    {
     "data": {
      "text/plain": [
       "(5000,)"
      ]
     },
     "execution_count": 34,
     "metadata": {},
     "output_type": "execute_result"
    }
   ],
   "source": [
    "y = raw_y.flatten()\n",
    "y.shape"
   ]
  },
  {
   "cell_type": "code",
   "execution_count": 37,
   "id": "b68fe9b7",
   "metadata": {},
   "outputs": [
    {
     "data": {
      "text/plain": [
       "dict_keys(['__header__', '__version__', '__globals__', 'Theta1', 'Theta2'])"
      ]
     },
     "execution_count": 37,
     "metadata": {},
     "output_type": "execute_result"
    }
   ],
   "source": [
    "theta = sio.loadmat('ex3weights.mat')\n",
    "theta.keys()"
   ]
  },
  {
   "cell_type": "code",
   "execution_count": 38,
   "id": "1af1a92d",
   "metadata": {},
   "outputs": [
    {
     "data": {
      "text/plain": [
       "((25, 401), (10, 26))"
      ]
     },
     "execution_count": 38,
     "metadata": {},
     "output_type": "execute_result"
    }
   ],
   "source": [
    "theta1 = theta['Theta1']   #  输入 到 隐藏 之间的参数\n",
    "theta2 = theta['Theta2']   #  隐藏 到 输出 之间的参数\n",
    "theta1.shape,theta2.shape"
   ]
  },
  {
   "cell_type": "code",
   "execution_count": 39,
   "id": "87bea5cc",
   "metadata": {},
   "outputs": [],
   "source": [
    "def sigmoid(z):\n",
    "    return 1/ (1 + np.exp(-z))"
   ]
  },
  {
   "cell_type": "code",
   "execution_count": 40,
   "id": "8506260b",
   "metadata": {},
   "outputs": [
    {
     "data": {
      "text/plain": [
       "array([[1., 0., 0., ..., 0., 0., 0.],\n",
       "       [1., 0., 0., ..., 0., 0., 0.],\n",
       "       [1., 0., 0., ..., 0., 0., 0.],\n",
       "       ...,\n",
       "       [1., 0., 0., ..., 0., 0., 0.],\n",
       "       [1., 0., 0., ..., 0., 0., 0.],\n",
       "       [1., 0., 0., ..., 0., 0., 0.]])"
      ]
     },
     "execution_count": 40,
     "metadata": {},
     "output_type": "execute_result"
    }
   ],
   "source": [
    "a1 = X \n",
    "a1"
   ]
  },
  {
   "cell_type": "code",
   "execution_count": 43,
   "id": "3de07594",
   "metadata": {},
   "outputs": [
    {
     "data": {
      "text/plain": [
       "numpy.ndarray"
      ]
     },
     "execution_count": 43,
     "metadata": {},
     "output_type": "execute_result"
    }
   ],
   "source": [
    "type(a1)"
   ]
  },
  {
   "cell_type": "code",
   "execution_count": 44,
   "id": "7289e840",
   "metadata": {},
   "outputs": [],
   "source": [
    "z2 = X @theta1.T\n",
    "a2 = sigmoid(z2)"
   ]
  },
  {
   "cell_type": "code",
   "execution_count": 45,
   "id": "b103d5bd",
   "metadata": {},
   "outputs": [
    {
     "data": {
      "text/plain": [
       "(5000, 25)"
      ]
     },
     "execution_count": 45,
     "metadata": {},
     "output_type": "execute_result"
    }
   ],
   "source": [
    "a2.shape"
   ]
  },
  {
   "cell_type": "code",
   "execution_count": 46,
   "id": "14a0fa12",
   "metadata": {},
   "outputs": [
    {
     "data": {
      "text/plain": [
       "(5000, 26)"
      ]
     },
     "execution_count": 46,
     "metadata": {},
     "output_type": "execute_result"
    }
   ],
   "source": [
    "a2 = np.insert(a2,0,values=1,axis=1)   # 在最前面 添加一列 偏置项\n",
    "a2.shape"
   ]
  },
  {
   "cell_type": "code",
   "execution_count": 47,
   "id": "6b2a10ea",
   "metadata": {},
   "outputs": [],
   "source": [
    "z3 = a2 @ theta2.T\n",
    "a3 = sigmoid(z3)"
   ]
  },
  {
   "cell_type": "code",
   "execution_count": 13,
   "id": "1043700e",
   "metadata": {},
   "outputs": [
    {
     "data": {
      "text/plain": [
       "(5000, 10)"
      ]
     },
     "execution_count": 13,
     "metadata": {},
     "output_type": "execute_result"
    }
   ],
   "source": [
    "a3.shape"
   ]
  },
  {
   "cell_type": "code",
   "execution_count": 14,
   "id": "97c669a5",
   "metadata": {},
   "outputs": [],
   "source": [
    "y_pred = np.argmax(a3,axis=1)   #  axis=1 表示 沿着 列 的方向\n",
    "y_pred = y_pred + 1"
   ]
  },
  {
   "cell_type": "code",
   "execution_count": 15,
   "id": "8c17fe4c",
   "metadata": {},
   "outputs": [],
   "source": [
    "acc =  np.mean(y_pred == y)"
   ]
  },
  {
   "cell_type": "code",
   "execution_count": 16,
   "id": "d1581b31",
   "metadata": {},
   "outputs": [
    {
     "data": {
      "text/plain": [
       "0.9752"
      ]
     },
     "execution_count": 16,
     "metadata": {},
     "output_type": "execute_result"
    }
   ],
   "source": [
    "acc"
   ]
  },
  {
   "cell_type": "code",
   "execution_count": 17,
   "id": "a4481cfa",
   "metadata": {},
   "outputs": [
    {
     "data": {
      "text/plain": [
       "array([[1.12661530e-04, 1.74127856e-03, 2.52696959e-03, ...,\n",
       "        4.01468105e-04, 6.48072305e-03, 9.95734012e-01],\n",
       "       [4.79026796e-04, 2.41495958e-03, 3.44755685e-03, ...,\n",
       "        2.39107046e-03, 1.97025086e-03, 9.95696931e-01],\n",
       "       [8.85702310e-05, 3.24266731e-03, 2.55419797e-02, ...,\n",
       "        6.22892325e-02, 5.49803551e-03, 9.28008397e-01],\n",
       "       ...,\n",
       "       [5.17641791e-02, 3.81715020e-03, 2.96297510e-02, ...,\n",
       "        2.15667361e-03, 6.49826950e-01, 2.42384687e-05],\n",
       "       [8.30631310e-04, 6.22003774e-04, 3.14518512e-04, ...,\n",
       "        1.19366192e-02, 9.71410499e-01, 2.06173648e-04],\n",
       "       [4.81465717e-05, 4.58821829e-04, 2.15146201e-05, ...,\n",
       "        5.73434571e-03, 6.96288990e-01, 8.18576980e-02]])"
      ]
     },
     "execution_count": 17,
     "metadata": {},
     "output_type": "execute_result"
    }
   ],
   "source": [
    "a3"
   ]
  },
  {
   "cell_type": "code",
   "execution_count": null,
   "id": "16560716",
   "metadata": {},
   "outputs": [],
   "source": []
  }
 ],
 "metadata": {
  "kernelspec": {
   "display_name": "Python 3 (ipykernel)",
   "language": "python",
   "name": "python3"
  },
  "language_info": {
   "codemirror_mode": {
    "name": "ipython",
    "version": 3
   },
   "file_extension": ".py",
   "mimetype": "text/x-python",
   "name": "python",
   "nbconvert_exporter": "python",
   "pygments_lexer": "ipython3",
   "version": "3.11.4"
  }
 },
 "nbformat": 4,
 "nbformat_minor": 5
}
